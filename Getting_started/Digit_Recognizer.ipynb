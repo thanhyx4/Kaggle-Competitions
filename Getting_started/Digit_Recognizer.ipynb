{
  "metadata": {
    "kernelspec": {
      "language": "python",
      "display_name": "Python 3",
      "name": "python3"
    },
    "language_info": {
      "name": "python",
      "version": "3.10.13",
      "mimetype": "text/x-python",
      "codemirror_mode": {
        "name": "ipython",
        "version": 3
      },
      "pygments_lexer": "ipython3",
      "nbconvert_exporter": "python",
      "file_extension": ".py"
    },
    "kaggle": {
      "accelerator": "gpu",
      "dataSources": [
        {
          "sourceId": 3004,
          "databundleVersionId": 861823,
          "sourceType": "competition"
        }
      ],
      "dockerImageVersionId": 30664,
      "isInternetEnabled": true,
      "language": "python",
      "sourceType": "notebook",
      "isGpuEnabled": true
    },
    "colab": {
      "name": "Digit Recognizer",
      "provenance": []
    }
  },
  "nbformat_minor": 0,
  "nbformat": 4,
  "cells": [
    {
      "source": [
        "\n",
        "# IMPORTANT: RUN THIS CELL IN ORDER TO IMPORT YOUR KAGGLE DATA SOURCES\n",
        "# TO THE CORRECT LOCATION (/kaggle/input) IN YOUR NOTEBOOK,\n",
        "# THEN FEEL FREE TO DELETE THIS CELL.\n",
        "# NOTE: THIS NOTEBOOK ENVIRONMENT DIFFERS FROM KAGGLE'S PYTHON\n",
        "# ENVIRONMENT SO THERE MAY BE MISSING LIBRARIES USED BY YOUR\n",
        "# NOTEBOOK.\n",
        "\n",
        "import os\n",
        "import sys\n",
        "from tempfile import NamedTemporaryFile\n",
        "from urllib.request import urlopen\n",
        "from urllib.parse import unquote, urlparse\n",
        "from urllib.error import HTTPError\n",
        "from zipfile import ZipFile\n",
        "import tarfile\n",
        "import shutil\n",
        "\n",
        "CHUNK_SIZE = 40960\n",
        "DATA_SOURCE_MAPPING = 'digit-recognizer:https%3A%2F%2Fstorage.googleapis.com%2Fkaggle-competitions-data%2Fkaggle-v2%2F3004%2F861823%2Fbundle%2Farchive.zip%3FX-Goog-Algorithm%3DGOOG4-RSA-SHA256%26X-Goog-Credential%3Dgcp-kaggle-com%2540kaggle-161607.iam.gserviceaccount.com%252F20240901%252Fauto%252Fstorage%252Fgoog4_request%26X-Goog-Date%3D20240901T161842Z%26X-Goog-Expires%3D259200%26X-Goog-SignedHeaders%3Dhost%26X-Goog-Signature%3Dc8d818953692ac9aad196a3a879118835dc1f568aad5d507ce6aa88df3b4fb5f2934eda175963c9fa3f15662e1f28ae23d0e07365a3c33ca419598e7d535c2187fa8704817e5e31b734e2a1d1c636e6370d4fb6f745d025111f04669686f10ca6ed0775abc1d9306be653964982ac3f8b2f4d94f43178882d89433d7cc7bf34657819b5aaa0770ede8665a2b40b725cad30da438819b55592cf53e56d542a8eafb3e4aa2b2c8aae1e8ce52b24964084726434529a66fddbcca1e1cba7462e68a8265bca38e26c65898eda6d1080614973deef9d8c59bf3682ad32d79bad1628e63412d79846ac6499705e462927b4b368c17413dcf5f7fe861acd482202d7770'\n",
        "\n",
        "KAGGLE_INPUT_PATH='/kaggle/input'\n",
        "KAGGLE_WORKING_PATH='/kaggle/working'\n",
        "KAGGLE_SYMLINK='kaggle'\n",
        "\n",
        "!umount /kaggle/input/ 2> /dev/null\n",
        "shutil.rmtree('/kaggle/input', ignore_errors=True)\n",
        "os.makedirs(KAGGLE_INPUT_PATH, 0o777, exist_ok=True)\n",
        "os.makedirs(KAGGLE_WORKING_PATH, 0o777, exist_ok=True)\n",
        "\n",
        "try:\n",
        "  os.symlink(KAGGLE_INPUT_PATH, os.path.join(\"..\", 'input'), target_is_directory=True)\n",
        "except FileExistsError:\n",
        "  pass\n",
        "try:\n",
        "  os.symlink(KAGGLE_WORKING_PATH, os.path.join(\"..\", 'working'), target_is_directory=True)\n",
        "except FileExistsError:\n",
        "  pass\n",
        "\n",
        "for data_source_mapping in DATA_SOURCE_MAPPING.split(','):\n",
        "    directory, download_url_encoded = data_source_mapping.split(':')\n",
        "    download_url = unquote(download_url_encoded)\n",
        "    filename = urlparse(download_url).path\n",
        "    destination_path = os.path.join(KAGGLE_INPUT_PATH, directory)\n",
        "    try:\n",
        "        with urlopen(download_url) as fileres, NamedTemporaryFile() as tfile:\n",
        "            total_length = fileres.headers['content-length']\n",
        "            print(f'Downloading {directory}, {total_length} bytes compressed')\n",
        "            dl = 0\n",
        "            data = fileres.read(CHUNK_SIZE)\n",
        "            while len(data) > 0:\n",
        "                dl += len(data)\n",
        "                tfile.write(data)\n",
        "                done = int(50 * dl / int(total_length))\n",
        "                sys.stdout.write(f\"\\r[{'=' * done}{' ' * (50-done)}] {dl} bytes downloaded\")\n",
        "                sys.stdout.flush()\n",
        "                data = fileres.read(CHUNK_SIZE)\n",
        "            if filename.endswith('.zip'):\n",
        "              with ZipFile(tfile) as zfile:\n",
        "                zfile.extractall(destination_path)\n",
        "            else:\n",
        "              with tarfile.open(tfile.name) as tarfile:\n",
        "                tarfile.extractall(destination_path)\n",
        "            print(f'\\nDownloaded and uncompressed: {directory}')\n",
        "    except HTTPError as e:\n",
        "        print(f'Failed to load (likely expired) {download_url} to path {destination_path}')\n",
        "        continue\n",
        "    except OSError as e:\n",
        "        print(f'Failed to load {download_url} to path {destination_path}')\n",
        "        continue\n",
        "\n",
        "print('Data source import complete.')\n"
      ],
      "metadata": {
        "id": "Y7afYi-vYbnD"
      },
      "cell_type": "code",
      "outputs": [],
      "execution_count": null
    },
    {
      "cell_type": "code",
      "source": [
        "# This Python 3 environment comes with many helpful analytics libraries installed\n",
        "# It is defined by the kaggle/python Docker image: https://github.com/kaggle/docker-python\n",
        "# For example, here's several helpful packages to load\n",
        "\n",
        "import numpy as np # linear algebra\n",
        "import pandas as pd # data processing, CSV file I/O (e.g. pd.read_csv)\n",
        "from sklearn.model_selection import train_test_split\n",
        "from sklearn.pipeline import Pipeline\n",
        "from sklearn import svm\n",
        "from sklearn.preprocessing import StandardScaler, MinMaxScaler\n",
        "from sklearn.metrics import accuracy_score\n",
        "\n",
        "import tensorflow as tf\n",
        "from tensorflow.keras import Sequential\n",
        "from tensorflow.keras.layers import Dense, BatchNormalization, Conv2D, MaxPool2D, Dropout\n",
        "from keras import optimizers\n",
        "import keras\n",
        "\n",
        "# Input data files are available in the read-only \"../input/\" directory\n",
        "# For example, running this (by clicking run or pressing Shift+Enter) will list all files under the input directory\n",
        "\n",
        "import os\n",
        "for dirname, _, filenames in os.walk('/kaggle/input'):\n",
        "    for filename in filenames:\n",
        "        print(os.path.join(dirname, filename))\n",
        "\n",
        "# You can write up to 20GB to the current directory (/kaggle/working/) that gets preserved as output when you create a version using \"Save & Run All\"\n",
        "# You can also write temporary files to /kaggle/temp/, but they won't be saved outside of the current session"
      ],
      "metadata": {
        "_uuid": "8f2839f25d086af736a60e9eeb907d3b93b6e0e5",
        "_cell_guid": "b1076dfc-b9ad-4769-8c92-a6c4dae69d19",
        "execution": {
          "iopub.status.busy": "2024-09-01T07:03:11.037077Z",
          "iopub.execute_input": "2024-09-01T07:03:11.037914Z",
          "iopub.status.idle": "2024-09-01T07:03:23.62392Z",
          "shell.execute_reply.started": "2024-09-01T07:03:11.037885Z",
          "shell.execute_reply": "2024-09-01T07:03:23.622921Z"
        },
        "trusted": true,
        "id": "km1kGr-tYbnL",
        "outputId": "5ce48771-297b-45aa-ada5-f73aa39e45c4"
      },
      "execution_count": null,
      "outputs": [
        {
          "name": "stderr",
          "text": "2024-09-01 07:03:13.861935: E external/local_xla/xla/stream_executor/cuda/cuda_dnn.cc:9261] Unable to register cuDNN factory: Attempting to register factory for plugin cuDNN when one has already been registered\n2024-09-01 07:03:13.862068: E external/local_xla/xla/stream_executor/cuda/cuda_fft.cc:607] Unable to register cuFFT factory: Attempting to register factory for plugin cuFFT when one has already been registered\n2024-09-01 07:03:14.009289: E external/local_xla/xla/stream_executor/cuda/cuda_blas.cc:1515] Unable to register cuBLAS factory: Attempting to register factory for plugin cuBLAS when one has already been registered\n",
          "output_type": "stream"
        },
        {
          "name": "stdout",
          "text": "/kaggle/input/digit-recognizer/sample_submission.csv\n/kaggle/input/digit-recognizer/train.csv\n/kaggle/input/digit-recognizer/test.csv\n",
          "output_type": "stream"
        }
      ]
    },
    {
      "cell_type": "code",
      "source": [
        "input1 = pd.read_csv(\"/kaggle/input/digit-recognizer/train.csv\")\n",
        "input2 = pd.read_csv(\"/kaggle/input/digit-recognizer/test.csv\")\n",
        "print(input1.shape)\n",
        "print(input2.shape)"
      ],
      "metadata": {
        "execution": {
          "iopub.status.busy": "2024-09-01T07:03:23.625557Z",
          "iopub.execute_input": "2024-09-01T07:03:23.626117Z",
          "iopub.status.idle": "2024-09-01T07:03:29.34461Z",
          "shell.execute_reply.started": "2024-09-01T07:03:23.62609Z",
          "shell.execute_reply": "2024-09-01T07:03:29.343672Z"
        },
        "trusted": true,
        "id": "M5IABorhYbnN",
        "outputId": "ddaacac1-709f-4270-daf8-ec9928cc6c63"
      },
      "execution_count": null,
      "outputs": [
        {
          "name": "stdout",
          "text": "(42000, 785)\n(28000, 784)\n",
          "output_type": "stream"
        }
      ]
    },
    {
      "cell_type": "code",
      "source": [
        "Y = input1['label'].to_numpy()\n",
        "X = input1.iloc[:,1:].to_numpy()\n",
        "X_submit = input2/255.0\n",
        "Y_submit = pd.DataFrame(columns = ['ImageId', 'Label'])"
      ],
      "metadata": {
        "execution": {
          "iopub.status.busy": "2024-09-01T07:03:29.345953Z",
          "iopub.execute_input": "2024-09-01T07:03:29.346286Z",
          "iopub.status.idle": "2024-09-01T07:03:29.393161Z",
          "shell.execute_reply.started": "2024-09-01T07:03:29.346259Z",
          "shell.execute_reply": "2024-09-01T07:03:29.392144Z"
        },
        "trusted": true,
        "id": "JsNphEfVYbnO"
      },
      "execution_count": null,
      "outputs": []
    },
    {
      "cell_type": "code",
      "source": [
        "#CNN\n",
        "X = X.reshape((-1, 28, 28, 1))\n",
        "input2 = input2.to_numpy().reshape((-1, 28, 28, 1))\n",
        "X.shape"
      ],
      "metadata": {
        "execution": {
          "iopub.status.busy": "2024-09-01T07:03:29.395328Z",
          "iopub.execute_input": "2024-09-01T07:03:29.395745Z",
          "iopub.status.idle": "2024-09-01T07:03:29.404222Z",
          "shell.execute_reply.started": "2024-09-01T07:03:29.395697Z",
          "shell.execute_reply": "2024-09-01T07:03:29.403268Z"
        },
        "trusted": true,
        "id": "TnSMx3DpYbnP",
        "outputId": "d67734f4-2fe4-41f1-b4ea-ca8ec905aee0"
      },
      "execution_count": null,
      "outputs": [
        {
          "execution_count": 7,
          "output_type": "execute_result",
          "data": {
            "text/plain": "(42000, 28, 28, 1)"
          },
          "metadata": {}
        }
      ]
    },
    {
      "cell_type": "code",
      "source": [
        "X_train, X_test, y_train, y_test = train_test_split(X, Y, test_size = 0.2, random_state=42)\n",
        "X_train.shape"
      ],
      "metadata": {
        "execution": {
          "iopub.status.busy": "2024-08-31T14:08:21.800999Z",
          "iopub.execute_input": "2024-08-31T14:08:21.801544Z",
          "iopub.status.idle": "2024-08-31T14:08:22.267137Z",
          "shell.execute_reply.started": "2024-08-31T14:08:21.801487Z",
          "shell.execute_reply": "2024-08-31T14:08:22.265937Z"
        },
        "trusted": true,
        "id": "fnKT8qzUYbnP",
        "outputId": "71181b49-f64b-42f3-9bd2-e4ab266c8218"
      },
      "execution_count": null,
      "outputs": [
        {
          "execution_count": 23,
          "output_type": "execute_result",
          "data": {
            "text/plain": "(33600, 28, 28, 1)"
          },
          "metadata": {}
        }
      ]
    },
    {
      "cell_type": "markdown",
      "source": [
        "# 1. Multi class classification problem -> decision tree, svm, logistic + softmax, nn, ensemble"
      ],
      "metadata": {
        "id": "EBGQzLjpYbnQ"
      }
    },
    {
      "cell_type": "markdown",
      "source": [
        "## Linear"
      ],
      "metadata": {
        "id": "BPpbmiyvYbnS"
      }
    },
    {
      "cell_type": "code",
      "source": [
        "from sklearn.linear_model import LogisticRegression\n",
        "Input1 = [ ('model', LogisticRegression() )]\n",
        "#minmaxscaler has a bit increase accuracy than standardscaler\n",
        "#/255.0 has a bit increase\n",
        "pipe1 = Pipeline( Input1) #pipeline constructor\n",
        "pipe1.fit( X_train/255.0, y_train)\n",
        "y_predict = pipe1.predict(X_test/255.0)\n",
        "print(accuracy_score(y_train, pipe1.predict(X_train/255.0)))\n",
        "accuracy_score(y_test, y_predict)"
      ],
      "metadata": {
        "execution": {
          "iopub.status.busy": "2024-08-28T13:41:02.083042Z",
          "iopub.execute_input": "2024-08-28T13:41:02.083443Z",
          "iopub.status.idle": "2024-08-28T13:41:11.5756Z",
          "shell.execute_reply.started": "2024-08-28T13:41:02.083411Z",
          "shell.execute_reply": "2024-08-28T13:41:11.57415Z"
        },
        "trusted": true,
        "id": "GBNYy6uIYbnS",
        "outputId": "1d79b086-cc0e-479c-e53f-c2fb5d5496ba"
      },
      "execution_count": null,
      "outputs": [
        {
          "name": "stderr",
          "text": "/opt/conda/lib/python3.10/site-packages/sklearn/linear_model/_logistic.py:458: ConvergenceWarning: lbfgs failed to converge (status=1):\nSTOP: TOTAL NO. of ITERATIONS REACHED LIMIT.\n\nIncrease the number of iterations (max_iter) or scale the data as shown in:\n    https://scikit-learn.org/stable/modules/preprocessing.html\nPlease also refer to the documentation for alternative solver options:\n    https://scikit-learn.org/stable/modules/linear_model.html#logistic-regression\n  n_iter_i = _check_optimize_result(\n",
          "output_type": "stream"
        },
        {
          "name": "stdout",
          "text": "0.942312925170068\n",
          "output_type": "stream"
        },
        {
          "execution_count": 5,
          "output_type": "execute_result",
          "data": {
            "text/plain": "0.918968253968254"
          },
          "metadata": {}
        }
      ]
    },
    {
      "cell_type": "markdown",
      "source": [
        "## Non - linear"
      ],
      "metadata": {
        "id": "tL1EJyg0YbnT"
      }
    },
    {
      "cell_type": "code",
      "source": [
        "from sklearn.neighbors import KNeighborsClassifier\n",
        "Input1 = [ ('scale', MinMaxScaler()),('model', KNeighborsClassifier(n_neighbors=3) )]\n",
        "pipe1 = Pipeline( Input1) #pipeline constructor\n",
        "pipe1.fit( X_train, y_train)\n",
        "y_predict = pipe1.predict(X_test)\n",
        "print(accuracy_score(y_train, pipe1.predict(X_train)))\n",
        "accuracy_score(y_test, y_predict)"
      ],
      "metadata": {
        "execution": {
          "iopub.status.busy": "2024-08-28T14:34:37.376036Z",
          "iopub.execute_input": "2024-08-28T14:34:37.376516Z",
          "iopub.status.idle": "2024-08-28T14:35:14.667509Z",
          "shell.execute_reply.started": "2024-08-28T14:34:37.37647Z",
          "shell.execute_reply": "2024-08-28T14:35:14.66635Z"
        },
        "trusted": true,
        "id": "X4VdNUozYbnT",
        "outputId": "5fc5b833-8bb5-419d-fee4-1a3a85dc0f89"
      },
      "execution_count": null,
      "outputs": [
        {
          "name": "stdout",
          "text": "0.981938775510204\n",
          "output_type": "stream"
        },
        {
          "execution_count": 23,
          "output_type": "execute_result",
          "data": {
            "text/plain": "0.9663492063492064"
          },
          "metadata": {}
        }
      ]
    },
    {
      "cell_type": "code",
      "source": [
        "from sklearn.model_selection import GridSearchCV\n",
        "from sklearn.model_selection import StratifiedKFold\n",
        "kfold = StratifiedKFold(n_splits=10, shuffle=True, random_state=7)\n",
        "param_grid = [{'n_neighbors': [3, 5, 7, 9, 15, 20]}]\n",
        "model = KNeighborsClassifier()\n",
        "grid_search = GridSearchCV(model, param_grid, scoring=\"accuracy\", n_jobs=-1, cv=kfold, verbose=1)\n",
        "grid_result = grid_search.fit(X_train/255.0, y_train)\n",
        "\n",
        "print(grid_result.best_score_, grid_result.best_params_)\n"
      ],
      "metadata": {
        "execution": {
          "iopub.status.busy": "2024-08-28T14:26:28.854462Z",
          "iopub.execute_input": "2024-08-28T14:26:28.854926Z",
          "iopub.status.idle": "2024-08-28T14:28:44.591119Z",
          "shell.execute_reply.started": "2024-08-28T14:26:28.85489Z",
          "shell.execute_reply": "2024-08-28T14:28:44.589754Z"
        },
        "trusted": true,
        "id": "Z-cmC24TYbnU",
        "outputId": "12e02197-e29d-490e-c507-fbc2955dc746"
      },
      "execution_count": null,
      "outputs": [
        {
          "name": "stdout",
          "text": "Fitting 10 folds for each of 6 candidates, totalling 60 fits\n0.9645918367346938 {'n_neighbors': 3}\n",
          "output_type": "stream"
        }
      ]
    },
    {
      "cell_type": "code",
      "source": [
        "from sklearn.tree import DecisionTreeClassifier\n",
        "Input1 = [ ('scale', MinMaxScaler()),('model', DecisionTreeClassifier(criterion = 'entropy', min_samples_split=4, min_samples_leaf=5) )]\n",
        "    #overfitting -> cut tree earlier\n",
        "pipe1 = Pipeline( Input1) #pipeline constructor\n",
        "pipe1.fit( X_train, y_train)\n",
        "y_predict = pipe1.predict(X_test)\n",
        "print(accuracy_score(y_train, pipe1.predict(X_train)))\n",
        "accuracy_score(y_test, y_predict)"
      ],
      "metadata": {
        "execution": {
          "iopub.status.busy": "2024-08-29T06:00:04.593297Z",
          "iopub.execute_input": "2024-08-29T06:00:04.593709Z",
          "iopub.status.idle": "2024-08-29T06:00:15.213149Z",
          "shell.execute_reply.started": "2024-08-29T06:00:04.593676Z",
          "shell.execute_reply": "2024-08-29T06:00:15.212088Z"
        },
        "trusted": true,
        "id": "rgQOO25BYbnU",
        "outputId": "767fc240-6ae1-41a6-eb6f-f0d2730d7d7d"
      },
      "execution_count": null,
      "outputs": [
        {
          "name": "stdout",
          "text": "0.9499404761904762\n",
          "output_type": "stream"
        },
        {
          "execution_count": 12,
          "output_type": "execute_result",
          "data": {
            "text/plain": "0.865"
          },
          "metadata": {}
        }
      ]
    },
    {
      "cell_type": "code",
      "source": [
        "param_grid = {\n",
        "    'criterion': ['gini', 'entropy'],               # Criterion to measure the quality of a split\n",
        "    'max_depth': [None, 10, 20, 30, 40],            # Maximum depth of the tree\n",
        "    'min_samples_split': [2, 5, 10],                # Minimum number of samples required to split a node\n",
        "    'min_samples_leaf': [1, 2, 4],                  # Minimum number of samples required to be at a leaf node\n",
        "    'max_features': [None, 'sqrt', 'log2']          # Number of features to consider when looking for the best split\n",
        "}\n",
        "kfold = StratifiedKFold(n_splits=5, shuffle=True, random_state=42)\n",
        "\n",
        "model = DecisionTreeClassifier()\n",
        "grid_search = GridSearchCV(model, param_grid, scoring=\"accuracy\", n_jobs=-1, cv=kfold, verbose=1)\n",
        "grid_result = grid_search.fit(X_train/255.0, y_train)\n",
        "\n",
        "print(grid_result.best_score_, grid_result.best_params_)\n"
      ],
      "metadata": {
        "execution": {
          "iopub.status.busy": "2024-08-28T15:45:03.01066Z",
          "iopub.execute_input": "2024-08-28T15:45:03.011088Z",
          "iopub.status.idle": "2024-08-28T16:05:21.683572Z",
          "shell.execute_reply.started": "2024-08-28T15:45:03.011053Z",
          "shell.execute_reply": "2024-08-28T16:05:21.682192Z"
        },
        "trusted": true,
        "id": "6N3qyGvoYbnU",
        "outputId": "c9333f62-84e0-45ff-9fcb-414d276e7450"
      },
      "execution_count": null,
      "outputs": [
        {
          "name": "stdout",
          "text": "Fitting 5 folds for each of 270 candidates, totalling 1350 fits\n0.8535374149659862 {'criterion': 'entropy', 'max_depth': None, 'max_features': None, 'min_samples_leaf': 4, 'min_samples_split': 5}\n",
          "output_type": "stream"
        }
      ]
    },
    {
      "cell_type": "markdown",
      "source": [
        "## SVM"
      ],
      "metadata": {
        "id": "ijUZAyT4YbnV"
      }
    },
    {
      "cell_type": "code",
      "source": [
        "Input = [ ('scale', MinMaxScaler()),('model', svm.SVC(decision_function_shape='ovo'))]\n",
        "pipe = Pipeline( Input) #pipeline constructor\n",
        "pipe.fit( X_train, y_train)\n",
        "y_predict = pipe.predict (X_test)\n",
        "print(accuracy_score(y_train, pipe.predict (X_train)))\n",
        "accuracy_score(y_test, y_predict)"
      ],
      "metadata": {
        "execution": {
          "iopub.status.busy": "2024-08-27T03:45:55.29449Z",
          "iopub.execute_input": "2024-08-27T03:45:55.294864Z",
          "iopub.status.idle": "2024-08-27T03:54:00.48538Z",
          "shell.execute_reply.started": "2024-08-27T03:45:55.294836Z",
          "shell.execute_reply": "2024-08-27T03:54:00.484368Z"
        },
        "trusted": true,
        "id": "E9kTa26UYbnV",
        "outputId": "9d6aedd1-6754-4c61-8396-c4b280b26518"
      },
      "execution_count": null,
      "outputs": [
        {
          "name": "stdout",
          "text": "0.9854761904761905\n",
          "output_type": "stream"
        },
        {
          "execution_count": 6,
          "output_type": "execute_result",
          "data": {
            "text/plain": "0.958452380952381"
          },
          "metadata": {}
        }
      ]
    },
    {
      "cell_type": "code",
      "source": [
        "model = svm.SVC(decision_function_shape='ovr')\n",
        "model.fit(X_train/255.0, y_train)\n",
        "y_predict = model.predict(X/255.0_test)\n",
        "accuracy_score(y_test, y_predict)"
      ],
      "metadata": {
        "execution": {
          "iopub.status.busy": "2024-08-27T03:56:33.167442Z",
          "iopub.execute_input": "2024-08-27T03:56:33.168437Z",
          "iopub.status.idle": "2024-08-27T03:59:08.170757Z",
          "shell.execute_reply.started": "2024-08-27T03:56:33.168402Z",
          "shell.execute_reply": "2024-08-27T03:59:08.169674Z"
        },
        "trusted": true,
        "id": "lI4wF1yIYbnV",
        "outputId": "0c80a0b6-d295-40c2-e1ff-1427bfefa8b7"
      },
      "execution_count": null,
      "outputs": [
        {
          "execution_count": 8,
          "output_type": "execute_result",
          "data": {
            "text/plain": "0.973452380952381"
          },
          "metadata": {}
        }
      ]
    },
    {
      "cell_type": "code",
      "source": [
        "model = svm.SVC(decision_function_shape='ovo')\n",
        "model.fit(X_train/255.0, y_train)\n",
        "y_predict = model.predict(X_test/255.0)\n",
        "print(accuracy_score(y_train, model.predict(X_train/255.0)))\n",
        "accuracy_score(y_test, y_predict)"
      ],
      "metadata": {
        "execution": {
          "iopub.status.busy": "2024-08-27T04:00:45.29148Z",
          "iopub.execute_input": "2024-08-27T04:00:45.29238Z",
          "iopub.status.idle": "2024-08-27T04:06:59.46201Z",
          "shell.execute_reply.started": "2024-08-27T04:00:45.292346Z",
          "shell.execute_reply": "2024-08-27T04:06:59.460976Z"
        },
        "trusted": true,
        "id": "F0-LIrFcYbnV",
        "outputId": "3b49795a-3d5a-45cd-d839-ce0fda5e00c1"
      },
      "execution_count": null,
      "outputs": [
        {
          "name": "stdout",
          "text": "0.9886309523809523\n",
          "output_type": "stream"
        },
        {
          "execution_count": 9,
          "output_type": "execute_result",
          "data": {
            "text/plain": "0.973452380952381"
          },
          "metadata": {}
        }
      ]
    },
    {
      "cell_type": "code",
      "source": [
        "tmp = pd.DataFrame(data = pipe1.predict(input2))\n",
        "Y_submit = tmp.reset_index().rename(columns = {'index':'ImageId',0: 'Label'})\n",
        "Y_submit['ImageId'] += 1\n",
        "Y_submit.head()"
      ],
      "metadata": {
        "execution": {
          "iopub.status.busy": "2024-08-29T10:39:27.693675Z",
          "iopub.execute_input": "2024-08-29T10:39:27.694045Z",
          "iopub.status.idle": "2024-08-29T10:39:29.710702Z",
          "shell.execute_reply.started": "2024-08-29T10:39:27.694018Z",
          "shell.execute_reply": "2024-08-29T10:39:29.709559Z"
        },
        "trusted": true,
        "id": "zt4eFt0wYbnW",
        "outputId": "6150ce9e-e418-4c72-f960-6f21ded26b7d"
      },
      "execution_count": null,
      "outputs": [
        {
          "name": "stderr",
          "text": "/opt/conda/lib/python3.10/site-packages/sklearn/base.py:432: UserWarning: X has feature names, but MinMaxScaler was fitted without feature names\n  warnings.warn(\n",
          "output_type": "stream"
        },
        {
          "execution_count": 6,
          "output_type": "execute_result",
          "data": {
            "text/plain": "   ImageId  Label\n0        1      2\n1        2      0\n2        3      9\n3        4      9\n4        5      3",
            "text/html": "<div>\n<style scoped>\n    .dataframe tbody tr th:only-of-type {\n        vertical-align: middle;\n    }\n\n    .dataframe tbody tr th {\n        vertical-align: top;\n    }\n\n    .dataframe thead th {\n        text-align: right;\n    }\n</style>\n<table border=\"1\" class=\"dataframe\">\n  <thead>\n    <tr style=\"text-align: right;\">\n      <th></th>\n      <th>ImageId</th>\n      <th>Label</th>\n    </tr>\n  </thead>\n  <tbody>\n    <tr>\n      <th>0</th>\n      <td>1</td>\n      <td>2</td>\n    </tr>\n    <tr>\n      <th>1</th>\n      <td>2</td>\n      <td>0</td>\n    </tr>\n    <tr>\n      <th>2</th>\n      <td>3</td>\n      <td>9</td>\n    </tr>\n    <tr>\n      <th>3</th>\n      <td>4</td>\n      <td>9</td>\n    </tr>\n    <tr>\n      <th>4</th>\n      <td>5</td>\n      <td>3</td>\n    </tr>\n  </tbody>\n</table>\n</div>"
          },
          "metadata": {}
        }
      ]
    },
    {
      "cell_type": "markdown",
      "source": [
        "## Ensemble"
      ],
      "metadata": {
        "id": "etcbdc0GYbnW"
      }
    },
    {
      "cell_type": "code",
      "source": [
        "from sklearn.ensemble import GradientBoostingClassifier\n",
        "Input1 = [ ('scale', MinMaxScaler()),('model', GradientBoostingClassifier(n_estimators = 100) )]\n",
        "pipe1 = Pipeline( Input1) #pipeline constructor\n",
        "pipe1.fit( X_train, y_train)\n",
        "y_predict = pipe1.predict (X_test)\n",
        "print(accuracy_score(y_train, pipe1.predict(X_train)))\n",
        "accuracy_score(y_test, y_predict)\n",
        "#so long"
      ],
      "metadata": {
        "execution": {
          "iopub.status.busy": "2024-08-29T08:16:57.277377Z",
          "iopub.execute_input": "2024-08-29T08:16:57.278307Z",
          "iopub.status.idle": "2024-08-29T08:49:33.225929Z",
          "shell.execute_reply.started": "2024-08-29T08:16:57.278273Z",
          "shell.execute_reply": "2024-08-29T08:49:33.224588Z"
        },
        "trusted": true,
        "id": "Yo8rasiBYbnW",
        "outputId": "7a45e439-8b17-4803-d7d5-1f9aa38d6589"
      },
      "execution_count": null,
      "outputs": [
        {
          "name": "stdout",
          "text": "0.9697619047619047\n",
          "output_type": "stream"
        },
        {
          "execution_count": 5,
          "output_type": "execute_result",
          "data": {
            "text/plain": "0.9414285714285714"
          },
          "metadata": {}
        }
      ]
    },
    {
      "cell_type": "code",
      "source": [
        "from sklearn.ensemble import RandomForestClassifier\n",
        "Input1 = [ ('scale', MinMaxScaler()),('model', RandomForestClassifier(n_estimators = 200, max_depth = 20, max_features = 4, min_samples_leaf = 5) )]\n",
        "pipe1 = Pipeline( Input1) #pipeline constructor\n",
        "pipe1.fit( X_train, y_train)\n",
        "y_predict = pipe1.predict (X_test)\n",
        "print(accuracy_score(y_train, pipe1.predict(X_train)))\n",
        "accuracy_score(y_test, y_predict)"
      ],
      "metadata": {
        "execution": {
          "iopub.status.busy": "2024-08-29T10:38:00.930708Z",
          "iopub.execute_input": "2024-08-29T10:38:00.931374Z",
          "iopub.status.idle": "2024-08-29T10:38:14.112862Z",
          "shell.execute_reply.started": "2024-08-29T10:38:00.931326Z",
          "shell.execute_reply": "2024-08-29T10:38:14.111577Z"
        },
        "trusted": true,
        "id": "e929PV2gYbnW",
        "outputId": "8c8d3e76-56da-4482-dfbb-8fd6c2b61fe0"
      },
      "execution_count": null,
      "outputs": [
        {
          "name": "stdout",
          "text": "0.9746428571428571\n",
          "output_type": "stream"
        },
        {
          "execution_count": 5,
          "output_type": "execute_result",
          "data": {
            "text/plain": "0.9410714285714286"
          },
          "metadata": {}
        }
      ]
    },
    {
      "cell_type": "code",
      "source": [
        "from sklearn.model_selection import GridSearchCV\n",
        "from sklearn.model_selection import StratifiedKFold\n",
        "params = {\n",
        "    'max_depth': [1, 2, 5, 10, 20],\n",
        "    'min_samples_leaf': [5, 10, 20, 50, 100],\n",
        "    'max_features': [2,3,4],\n",
        "    'n_estimators': [10, 30, 50, 100, 200]\n",
        "}\n",
        "\n",
        "kfold = StratifiedKFold(n_splits=5, shuffle=True, random_state=42)\n",
        "\n",
        "model = RandomForestClassifier()\n",
        "grid_search = GridSearchCV(model, params, scoring=\"accuracy\", n_jobs=-1, cv=kfold, verbose=1)\n",
        "grid_result = grid_search.fit(X_train/255.0, y_train)\n",
        "\n",
        "print(grid_result.best_score_, grid_result.best_params_)\n"
      ],
      "metadata": {
        "execution": {
          "iopub.status.busy": "2024-08-29T09:05:53.699334Z",
          "iopub.execute_input": "2024-08-29T09:05:53.700338Z",
          "iopub.status.idle": "2024-08-29T09:22:35.376901Z",
          "shell.execute_reply.started": "2024-08-29T09:05:53.700297Z",
          "shell.execute_reply": "2024-08-29T09:22:35.375501Z"
        },
        "trusted": true,
        "id": "UaLPl4ZKYbnW",
        "outputId": "ca306e0d-a9c5-4a75-d195-48d277972ee6"
      },
      "execution_count": null,
      "outputs": [
        {
          "name": "stdout",
          "text": "Fitting 5 folds for each of 375 candidates, totalling 1875 fits\n0.940267857142857 {'max_depth': 20, 'max_features': 4, 'min_samples_leaf': 5, 'n_estimators': 200}\n",
          "output_type": "stream"
        }
      ]
    },
    {
      "cell_type": "markdown",
      "source": [
        "# 2. With encoder label"
      ],
      "metadata": {
        "id": "NgSnVFo0YbnX"
      }
    },
    {
      "cell_type": "code",
      "source": [
        "from sklearn.preprocessing import OneHotEncoder\n",
        "one_hot = OneHotEncoder(sparse_output = False).fit(np.array([Y]).T)\n",
        "Y_ = one_hot.transform(np.array([Y]).T)"
      ],
      "metadata": {
        "execution": {
          "iopub.status.busy": "2024-09-01T07:03:29.405516Z",
          "iopub.execute_input": "2024-09-01T07:03:29.405916Z",
          "iopub.status.idle": "2024-09-01T07:03:29.425436Z",
          "shell.execute_reply.started": "2024-09-01T07:03:29.405882Z",
          "shell.execute_reply": "2024-09-01T07:03:29.424721Z"
        },
        "trusted": true,
        "id": "BH3JmvHsYbnX"
      },
      "execution_count": null,
      "outputs": []
    },
    {
      "cell_type": "code",
      "source": [
        "X_train, X_test, y_train, y_test = train_test_split(X, Y_, test_size = 0.2, random_state=42)\n",
        "print(X_train.shape)\n",
        "y_train.shape"
      ],
      "metadata": {
        "execution": {
          "iopub.status.busy": "2024-09-01T07:03:29.660045Z",
          "iopub.execute_input": "2024-09-01T07:03:29.660719Z",
          "iopub.status.idle": "2024-09-01T07:03:30.050132Z",
          "shell.execute_reply.started": "2024-09-01T07:03:29.660665Z",
          "shell.execute_reply": "2024-09-01T07:03:30.049204Z"
        },
        "trusted": true,
        "id": "gFs8DSlSYbnX",
        "outputId": "f4bb6014-abee-4524-e923-4faea3cc5324"
      },
      "execution_count": null,
      "outputs": [
        {
          "name": "stdout",
          "text": "(33600, 28, 28, 1)\n",
          "output_type": "stream"
        },
        {
          "execution_count": 9,
          "output_type": "execute_result",
          "data": {
            "text/plain": "(33600, 10)"
          },
          "metadata": {}
        }
      ]
    },
    {
      "cell_type": "markdown",
      "source": [
        "## Fully NN"
      ],
      "metadata": {
        "id": "n8fSQGswYbnX"
      }
    },
    {
      "cell_type": "code",
      "source": [
        "X_train.shape[1]"
      ],
      "metadata": {
        "execution": {
          "iopub.status.busy": "2024-08-29T10:41:27.798978Z",
          "iopub.execute_input": "2024-08-29T10:41:27.799275Z",
          "iopub.status.idle": "2024-08-29T10:41:27.805975Z",
          "shell.execute_reply.started": "2024-08-29T10:41:27.799249Z",
          "shell.execute_reply": "2024-08-29T10:41:27.804772Z"
        },
        "trusted": true,
        "id": "NOpOmWj7YbnX",
        "outputId": "a6766e8b-6cfd-4dbb-9ddd-1522920e6bca"
      },
      "execution_count": null,
      "outputs": [
        {
          "execution_count": 10,
          "output_type": "execute_result",
          "data": {
            "text/plain": "784"
          },
          "metadata": {}
        }
      ]
    },
    {
      "cell_type": "code",
      "source": [
        "model = Sequential([Dense(512, input_dim=X_train.shape[1],  activation = 'relu', name='layer_1'),\n",
        "                    Dense(128, activation='relu'), BatchNormalization(),\n",
        "                    Dense(64, activation='relu'),\n",
        "        Dense(10, activation='softmax'),]\n",
        ")\n",
        "model.compile(loss = 'categorical_crossentropy', optimizer = optimizers.Adam(), metrics = ['accuracy'])\n",
        "model.fit( tf.convert_to_tensor(X_train/255.0),  tf.convert_to_tensor(y_train), epochs = 20)\n",
        "model.evaluate(X_test/255.0, y_test, )"
      ],
      "metadata": {
        "execution": {
          "iopub.status.busy": "2024-08-29T10:46:33.106127Z",
          "iopub.execute_input": "2024-08-29T10:46:33.107111Z",
          "iopub.status.idle": "2024-08-29T10:48:37.959783Z",
          "shell.execute_reply.started": "2024-08-29T10:46:33.107073Z",
          "shell.execute_reply": "2024-08-29T10:48:37.958689Z"
        },
        "trusted": true,
        "id": "XZ-b2iS1YbnX",
        "outputId": "e14b35d9-16cd-4836-a474-747a3df24aa2"
      },
      "execution_count": null,
      "outputs": [
        {
          "name": "stderr",
          "text": "/opt/conda/lib/python3.10/site-packages/keras/src/layers/core/dense.py:85: UserWarning: Do not pass an `input_shape`/`input_dim` argument to a layer. When using Sequential models, prefer using an `Input(shape)` object as the first layer in the model instead.\n  super().__init__(activity_regularizer=activity_regularizer, **kwargs)\n",
          "output_type": "stream"
        },
        {
          "name": "stdout",
          "text": "Epoch 1/20\n\u001b[1m1050/1050\u001b[0m \u001b[32m━━━━━━━━━━━━━━━━━━━━\u001b[0m\u001b[37m\u001b[0m \u001b[1m7s\u001b[0m 5ms/step - accuracy: 0.8801 - loss: 0.4063\nEpoch 2/20\n\u001b[1m1050/1050\u001b[0m \u001b[32m━━━━━━━━━━━━━━━━━━━━\u001b[0m\u001b[37m\u001b[0m \u001b[1m5s\u001b[0m 5ms/step - accuracy: 0.9638 - loss: 0.1166\nEpoch 3/20\n\u001b[1m1050/1050\u001b[0m \u001b[32m━━━━━━━━━━━━━━━━━━━━\u001b[0m\u001b[37m\u001b[0m \u001b[1m5s\u001b[0m 5ms/step - accuracy: 0.9755 - loss: 0.0795\nEpoch 4/20\n\u001b[1m1050/1050\u001b[0m \u001b[32m━━━━━━━━━━━━━━━━━━━━\u001b[0m\u001b[37m\u001b[0m \u001b[1m5s\u001b[0m 5ms/step - accuracy: 0.9815 - loss: 0.0593\nEpoch 5/20\n\u001b[1m1050/1050\u001b[0m \u001b[32m━━━━━━━━━━━━━━━━━━━━\u001b[0m\u001b[37m\u001b[0m \u001b[1m5s\u001b[0m 5ms/step - accuracy: 0.9839 - loss: 0.0476\nEpoch 6/20\n\u001b[1m1050/1050\u001b[0m \u001b[32m━━━━━━━━━━━━━━━━━━━━\u001b[0m\u001b[37m\u001b[0m \u001b[1m6s\u001b[0m 5ms/step - accuracy: 0.9882 - loss: 0.0361\nEpoch 7/20\n\u001b[1m1050/1050\u001b[0m \u001b[32m━━━━━━━━━━━━━━━━━━━━\u001b[0m\u001b[37m\u001b[0m \u001b[1m10s\u001b[0m 5ms/step - accuracy: 0.9887 - loss: 0.0348\nEpoch 8/20\n\u001b[1m1050/1050\u001b[0m \u001b[32m━━━━━━━━━━━━━━━━━━━━\u001b[0m\u001b[37m\u001b[0m \u001b[1m5s\u001b[0m 5ms/step - accuracy: 0.9888 - loss: 0.0308\nEpoch 9/20\n\u001b[1m1050/1050\u001b[0m \u001b[32m━━━━━━━━━━━━━━━━━━━━\u001b[0m\u001b[37m\u001b[0m \u001b[1m5s\u001b[0m 5ms/step - accuracy: 0.9925 - loss: 0.0240\nEpoch 10/20\n\u001b[1m1050/1050\u001b[0m \u001b[32m━━━━━━━━━━━━━━━━━━━━\u001b[0m\u001b[37m\u001b[0m \u001b[1m5s\u001b[0m 5ms/step - accuracy: 0.9919 - loss: 0.0237\nEpoch 11/20\n\u001b[1m1050/1050\u001b[0m \u001b[32m━━━━━━━━━━━━━━━━━━━━\u001b[0m\u001b[37m\u001b[0m \u001b[1m6s\u001b[0m 5ms/step - accuracy: 0.9935 - loss: 0.0188\nEpoch 12/20\n\u001b[1m1050/1050\u001b[0m \u001b[32m━━━━━━━━━━━━━━━━━━━━\u001b[0m\u001b[37m\u001b[0m \u001b[1m5s\u001b[0m 5ms/step - accuracy: 0.9939 - loss: 0.0189\nEpoch 13/20\n\u001b[1m1050/1050\u001b[0m \u001b[32m━━━━━━━━━━━━━━━━━━━━\u001b[0m\u001b[37m\u001b[0m \u001b[1m5s\u001b[0m 5ms/step - accuracy: 0.9928 - loss: 0.0235\nEpoch 14/20\n\u001b[1m1050/1050\u001b[0m \u001b[32m━━━━━━━━━━━━━━━━━━━━\u001b[0m\u001b[37m\u001b[0m \u001b[1m10s\u001b[0m 5ms/step - accuracy: 0.9946 - loss: 0.0162\nEpoch 15/20\n\u001b[1m1050/1050\u001b[0m \u001b[32m━━━━━━━━━━━━━━━━━━━━\u001b[0m\u001b[37m\u001b[0m \u001b[1m5s\u001b[0m 5ms/step - accuracy: 0.9958 - loss: 0.0132\nEpoch 16/20\n\u001b[1m1050/1050\u001b[0m \u001b[32m━━━━━━━━━━━━━━━━━━━━\u001b[0m\u001b[37m\u001b[0m \u001b[1m5s\u001b[0m 5ms/step - accuracy: 0.9950 - loss: 0.0156\nEpoch 17/20\n\u001b[1m1050/1050\u001b[0m \u001b[32m━━━━━━━━━━━━━━━━━━━━\u001b[0m\u001b[37m\u001b[0m \u001b[1m10s\u001b[0m 5ms/step - accuracy: 0.9979 - loss: 0.0076\nEpoch 18/20\n\u001b[1m1050/1050\u001b[0m \u001b[32m━━━━━━━━━━━━━━━━━━━━\u001b[0m\u001b[37m\u001b[0m \u001b[1m5s\u001b[0m 5ms/step - accuracy: 0.9950 - loss: 0.0143\nEpoch 19/20\n\u001b[1m1050/1050\u001b[0m \u001b[32m━━━━━━━━━━━━━━━━━━━━\u001b[0m\u001b[37m\u001b[0m \u001b[1m5s\u001b[0m 5ms/step - accuracy: 0.9958 - loss: 0.0113\nEpoch 20/20\n\u001b[1m1050/1050\u001b[0m \u001b[32m━━━━━━━━━━━━━━━━━━━━\u001b[0m\u001b[37m\u001b[0m \u001b[1m5s\u001b[0m 5ms/step - accuracy: 0.9969 - loss: 0.0109\n\u001b[1m263/263\u001b[0m \u001b[32m━━━━━━━━━━━━━━━━━━━━\u001b[0m\u001b[37m\u001b[0m \u001b[1m1s\u001b[0m 2ms/step - accuracy: 0.9775 - loss: 0.1076\n",
          "output_type": "stream"
        },
        {
          "execution_count": 15,
          "output_type": "execute_result",
          "data": {
            "text/plain": "[0.09918415546417236, 0.9788095355033875]"
          },
          "metadata": {}
        }
      ]
    },
    {
      "cell_type": "code",
      "source": [
        "X[0].shape"
      ],
      "metadata": {
        "execution": {
          "iopub.status.busy": "2024-08-31T14:14:23.504918Z",
          "iopub.execute_input": "2024-08-31T14:14:23.50641Z",
          "iopub.status.idle": "2024-08-31T14:14:23.515558Z",
          "shell.execute_reply.started": "2024-08-31T14:14:23.506364Z",
          "shell.execute_reply": "2024-08-31T14:14:23.514047Z"
        },
        "trusted": true,
        "id": "zxJKSQN8Ybnb",
        "outputId": "63cb81f1-9c52-4ab6-c9b8-dcc4dcbe4d40"
      },
      "execution_count": null,
      "outputs": [
        {
          "execution_count": 26,
          "output_type": "execute_result",
          "data": {
            "text/plain": "(28, 28, 1)"
          },
          "metadata": {}
        }
      ]
    },
    {
      "cell_type": "markdown",
      "source": [
        "## CNN"
      ],
      "metadata": {
        "id": "SBL5lTJ3Ybnb"
      }
    },
    {
      "cell_type": "code",
      "source": [
        "model = Sequential([keras.Input(shape=X_train[0].shape),\n",
        "                    Conv2D(filters = 32, kernel_size=5, strides = 1, padding = 'same', activation = 'relu'),\n",
        "                    BatchNormalization(),\n",
        "                    MaxPool2D(),\n",
        "                    BatchNormalization(),\n",
        "                    Dropout(0.4),\n",
        "                    Conv2D(filters = 64, kernel_size=5, strides = 1, padding = 'same', activation = 'relu'),\n",
        "                    BatchNormalization(),\n",
        "                    MaxPool2D(),\n",
        "                    BatchNormalization(),\n",
        "                    Dropout(0.4),\n",
        "                     tf.keras.layers.Flatten(),\n",
        "                    Dense(128, activation='relu'),\n",
        "                    BatchNormalization(),\n",
        "                    Dropout(0.4),\n",
        "                    Dense(64, activation='relu'),\n",
        "                    BatchNormalization(),\n",
        "                    Dropout(0.4),\n",
        "        Dense(10, activation='softmax')]\n",
        ")\n",
        "model.summary\n",
        "model.compile(loss = 'categorical_crossentropy', optimizer = optimizers.Adam(), metrics = ['accuracy'])\n",
        "model.fit( tf.convert_to_tensor(X_train/255.0),  tf.convert_to_tensor(y_train), epochs = 30)\n",
        "model.evaluate(X_test/255.0, y_test, )"
      ],
      "metadata": {
        "execution": {
          "iopub.status.busy": "2024-09-01T07:06:24.752802Z",
          "iopub.execute_input": "2024-09-01T07:06:24.753645Z",
          "iopub.status.idle": "2024-09-01T07:08:19.509082Z",
          "shell.execute_reply.started": "2024-09-01T07:06:24.753611Z",
          "shell.execute_reply": "2024-09-01T07:08:19.508259Z"
        },
        "trusted": true,
        "id": "TuOeKVOLYbnc",
        "outputId": "d4ffce76-b819-44a7-8fba-542797717695"
      },
      "execution_count": null,
      "outputs": [
        {
          "name": "stdout",
          "text": "Epoch 1/30\n\u001b[1m  44/1050\u001b[0m \u001b[37m━━━━━━━━━━━━━━━━━━━━\u001b[0m \u001b[1m3s\u001b[0m 4ms/step - accuracy: 0.2806 - loss: 2.3552 ",
          "output_type": "stream"
        },
        {
          "name": "stderr",
          "text": "W0000 00:00:1725174396.421098      84 graph_launch.cc:671] Fallback to op-by-op mode because memset node breaks graph update\n",
          "output_type": "stream"
        },
        {
          "name": "stdout",
          "text": "\u001b[1m1050/1050\u001b[0m \u001b[32m━━━━━━━━━━━━━━━━━━━━\u001b[0m\u001b[37m\u001b[0m \u001b[1m14s\u001b[0m 3ms/step - accuracy: 0.7660 - loss: 0.7419\nEpoch 2/30\n\u001b[1m1050/1050\u001b[0m \u001b[32m━━━━━━━━━━━━━━━━━━━━\u001b[0m\u001b[37m\u001b[0m \u001b[1m3s\u001b[0m 3ms/step - accuracy: 0.9548 - loss: 0.1517\nEpoch 3/30\n\u001b[1m1050/1050\u001b[0m \u001b[32m━━━━━━━━━━━━━━━━━━━━\u001b[0m\u001b[37m\u001b[0m \u001b[1m3s\u001b[0m 3ms/step - accuracy: 0.9639 - loss: 0.1200\nEpoch 4/30\n\u001b[1m1050/1050\u001b[0m \u001b[32m━━━━━━━━━━━━━━━━━━━━\u001b[0m\u001b[37m\u001b[0m \u001b[1m3s\u001b[0m 3ms/step - accuracy: 0.9721 - loss: 0.0927\nEpoch 5/30\n\u001b[1m1050/1050\u001b[0m \u001b[32m━━━━━━━━━━━━━━━━━━━━\u001b[0m\u001b[37m\u001b[0m \u001b[1m3s\u001b[0m 3ms/step - accuracy: 0.9734 - loss: 0.0873\nEpoch 6/30\n\u001b[1m1050/1050\u001b[0m \u001b[32m━━━━━━━━━━━━━━━━━━━━\u001b[0m\u001b[37m\u001b[0m \u001b[1m3s\u001b[0m 3ms/step - accuracy: 0.9772 - loss: 0.0777\nEpoch 7/30\n\u001b[1m1050/1050\u001b[0m \u001b[32m━━━━━━━━━━━━━━━━━━━━\u001b[0m\u001b[37m\u001b[0m \u001b[1m3s\u001b[0m 3ms/step - accuracy: 0.9780 - loss: 0.0746\nEpoch 8/30\n\u001b[1m1050/1050\u001b[0m \u001b[32m━━━━━━━━━━━━━━━━━━━━\u001b[0m\u001b[37m\u001b[0m \u001b[1m3s\u001b[0m 3ms/step - accuracy: 0.9793 - loss: 0.0715\nEpoch 9/30\n\u001b[1m1050/1050\u001b[0m \u001b[32m━━━━━━━━━━━━━━━━━━━━\u001b[0m\u001b[37m\u001b[0m \u001b[1m3s\u001b[0m 3ms/step - accuracy: 0.9804 - loss: 0.0694\nEpoch 10/30\n\u001b[1m1050/1050\u001b[0m \u001b[32m━━━━━━━━━━━━━━━━━━━━\u001b[0m\u001b[37m\u001b[0m \u001b[1m4s\u001b[0m 3ms/step - accuracy: 0.9819 - loss: 0.0604\nEpoch 11/30\n\u001b[1m1050/1050\u001b[0m \u001b[32m━━━━━━━━━━━━━━━━━━━━\u001b[0m\u001b[37m\u001b[0m \u001b[1m3s\u001b[0m 3ms/step - accuracy: 0.9836 - loss: 0.0567\nEpoch 12/30\n\u001b[1m1050/1050\u001b[0m \u001b[32m━━━━━━━━━━━━━━━━━━━━\u001b[0m\u001b[37m\u001b[0m \u001b[1m3s\u001b[0m 3ms/step - accuracy: 0.9850 - loss: 0.0521\nEpoch 13/30\n\u001b[1m1050/1050\u001b[0m \u001b[32m━━━━━━━━━━━━━━━━━━━━\u001b[0m\u001b[37m\u001b[0m \u001b[1m3s\u001b[0m 3ms/step - accuracy: 0.9873 - loss: 0.0481\nEpoch 14/30\n\u001b[1m1050/1050\u001b[0m \u001b[32m━━━━━━━━━━━━━━━━━━━━\u001b[0m\u001b[37m\u001b[0m \u001b[1m3s\u001b[0m 3ms/step - accuracy: 0.9859 - loss: 0.0467\nEpoch 15/30\n\u001b[1m1050/1050\u001b[0m \u001b[32m━━━━━━━━━━━━━━━━━━━━\u001b[0m\u001b[37m\u001b[0m \u001b[1m3s\u001b[0m 3ms/step - accuracy: 0.9864 - loss: 0.0493\nEpoch 16/30\n\u001b[1m1050/1050\u001b[0m \u001b[32m━━━━━━━━━━━━━━━━━━━━\u001b[0m\u001b[37m\u001b[0m \u001b[1m3s\u001b[0m 3ms/step - accuracy: 0.9854 - loss: 0.0476\nEpoch 17/30\n\u001b[1m1050/1050\u001b[0m \u001b[32m━━━━━━━━━━━━━━━━━━━━\u001b[0m\u001b[37m\u001b[0m \u001b[1m3s\u001b[0m 3ms/step - accuracy: 0.9874 - loss: 0.0441\nEpoch 18/30\n\u001b[1m1050/1050\u001b[0m \u001b[32m━━━━━━━━━━━━━━━━━━━━\u001b[0m\u001b[37m\u001b[0m \u001b[1m3s\u001b[0m 3ms/step - accuracy: 0.9891 - loss: 0.0374\nEpoch 19/30\n\u001b[1m1050/1050\u001b[0m \u001b[32m━━━━━━━━━━━━━━━━━━━━\u001b[0m\u001b[37m\u001b[0m \u001b[1m3s\u001b[0m 3ms/step - accuracy: 0.9883 - loss: 0.0379\nEpoch 20/30\n\u001b[1m1050/1050\u001b[0m \u001b[32m━━━━━━━━━━━━━━━━━━━━\u001b[0m\u001b[37m\u001b[0m \u001b[1m3s\u001b[0m 3ms/step - accuracy: 0.9880 - loss: 0.0407\nEpoch 21/30\n\u001b[1m1050/1050\u001b[0m \u001b[32m━━━━━━━━━━━━━━━━━━━━\u001b[0m\u001b[37m\u001b[0m \u001b[1m3s\u001b[0m 3ms/step - accuracy: 0.9884 - loss: 0.0381\nEpoch 22/30\n\u001b[1m1050/1050\u001b[0m \u001b[32m━━━━━━━━━━━━━━━━━━━━\u001b[0m\u001b[37m\u001b[0m \u001b[1m3s\u001b[0m 3ms/step - accuracy: 0.9878 - loss: 0.0416\nEpoch 23/30\n\u001b[1m1050/1050\u001b[0m \u001b[32m━━━━━━━━━━━━━━━━━━━━\u001b[0m\u001b[37m\u001b[0m \u001b[1m3s\u001b[0m 3ms/step - accuracy: 0.9894 - loss: 0.0331\nEpoch 24/30\n\u001b[1m1050/1050\u001b[0m \u001b[32m━━━━━━━━━━━━━━━━━━━━\u001b[0m\u001b[37m\u001b[0m \u001b[1m3s\u001b[0m 3ms/step - accuracy: 0.9901 - loss: 0.0329\nEpoch 25/30\n\u001b[1m1050/1050\u001b[0m \u001b[32m━━━━━━━━━━━━━━━━━━━━\u001b[0m\u001b[37m\u001b[0m \u001b[1m3s\u001b[0m 3ms/step - accuracy: 0.9894 - loss: 0.0382\nEpoch 26/30\n\u001b[1m1050/1050\u001b[0m \u001b[32m━━━━━━━━━━━━━━━━━━━━\u001b[0m\u001b[37m\u001b[0m \u001b[1m3s\u001b[0m 3ms/step - accuracy: 0.9905 - loss: 0.0305\nEpoch 27/30\n\u001b[1m1050/1050\u001b[0m \u001b[32m━━━━━━━━━━━━━━━━━━━━\u001b[0m\u001b[37m\u001b[0m \u001b[1m3s\u001b[0m 3ms/step - accuracy: 0.9893 - loss: 0.0311\nEpoch 28/30\n\u001b[1m1050/1050\u001b[0m \u001b[32m━━━━━━━━━━━━━━━━━━━━\u001b[0m\u001b[37m\u001b[0m \u001b[1m3s\u001b[0m 3ms/step - accuracy: 0.9915 - loss: 0.0307\nEpoch 29/30\n\u001b[1m1050/1050\u001b[0m \u001b[32m━━━━━━━━━━━━━━━━━━━━\u001b[0m\u001b[37m\u001b[0m \u001b[1m4s\u001b[0m 3ms/step - accuracy: 0.9908 - loss: 0.0315\nEpoch 30/30\n\u001b[1m1050/1050\u001b[0m \u001b[32m━━━━━━━━━━━━━━━━━━━━\u001b[0m\u001b[37m\u001b[0m \u001b[1m3s\u001b[0m 3ms/step - accuracy: 0.9915 - loss: 0.0318\n\u001b[1m 93/263\u001b[0m \u001b[32m━━━━━━━\u001b[0m\u001b[37m━━━━━━━━━━━━━\u001b[0m \u001b[1m0s\u001b[0m 2ms/step - accuracy: 0.9913 - loss: 0.0272",
          "output_type": "stream"
        },
        {
          "name": "stderr",
          "text": "W0000 00:00:1725174498.718326      83 graph_launch.cc:671] Fallback to op-by-op mode because memset node breaks graph update\n",
          "output_type": "stream"
        },
        {
          "name": "stdout",
          "text": "\u001b[1m263/263\u001b[0m \u001b[32m━━━━━━━━━━━━━━━━━━━━\u001b[0m\u001b[37m\u001b[0m \u001b[1m1s\u001b[0m 3ms/step - accuracy: 0.9921 - loss: 0.0262\n",
          "output_type": "stream"
        },
        {
          "execution_count": 11,
          "output_type": "execute_result",
          "data": {
            "text/plain": "[0.021959824487566948, 0.9934523701667786]"
          },
          "metadata": {}
        }
      ]
    },
    {
      "cell_type": "code",
      "source": [],
      "metadata": {
        "id": "PILfjJeSYbnc"
      },
      "execution_count": null,
      "outputs": []
    },
    {
      "cell_type": "markdown",
      "source": [
        "# 3."
      ],
      "metadata": {
        "id": "JQZAZj_bYbnc"
      }
    },
    {
      "cell_type": "markdown",
      "source": [
        "# II. Submission"
      ],
      "metadata": {
        "id": "IenNKeIJYbnc"
      }
    },
    {
      "cell_type": "code",
      "source": [
        "tmp = pd.DataFrame(data = one_hot.inverse_transform(model.predict(input2/255.0)).reshape([-1]))\n",
        "print(tmp.head())\n",
        "Y_submit = tmp.reset_index().rename(columns = {'index':'ImageId',0: 'Label'})\n",
        "Y_submit['ImageId'] += 1\n",
        "Y_submit.head()"
      ],
      "metadata": {
        "execution": {
          "iopub.status.busy": "2024-09-01T07:08:28.222965Z",
          "iopub.execute_input": "2024-09-01T07:08:28.22372Z",
          "iopub.status.idle": "2024-09-01T07:08:30.875972Z",
          "shell.execute_reply.started": "2024-09-01T07:08:28.223688Z",
          "shell.execute_reply": "2024-09-01T07:08:30.874968Z"
        },
        "trusted": true,
        "id": "-zd0mW9cYbnc",
        "outputId": "85e9edfd-e821-4043-c8e5-532994ae6a48"
      },
      "execution_count": null,
      "outputs": [
        {
          "name": "stdout",
          "text": "\u001b[1m101/875\u001b[0m \u001b[32m━━\u001b[0m\u001b[37m━━━━━━━━━━━━━━━━━━\u001b[0m \u001b[1m1s\u001b[0m 2ms/step",
          "output_type": "stream"
        },
        {
          "name": "stderr",
          "text": "W0000 00:00:1725174509.064475      81 graph_launch.cc:671] Fallback to op-by-op mode because memset node breaks graph update\n",
          "output_type": "stream"
        },
        {
          "name": "stdout",
          "text": "\u001b[1m875/875\u001b[0m \u001b[32m━━━━━━━━━━━━━━━━━━━━\u001b[0m\u001b[37m\u001b[0m \u001b[1m2s\u001b[0m 2ms/step\n   0\n0  2\n1  0\n2  9\n3  0\n4  3\n",
          "output_type": "stream"
        },
        {
          "execution_count": 12,
          "output_type": "execute_result",
          "data": {
            "text/plain": "   ImageId  Label\n0        1      2\n1        2      0\n2        3      9\n3        4      0\n4        5      3",
            "text/html": "<div>\n<style scoped>\n    .dataframe tbody tr th:only-of-type {\n        vertical-align: middle;\n    }\n\n    .dataframe tbody tr th {\n        vertical-align: top;\n    }\n\n    .dataframe thead th {\n        text-align: right;\n    }\n</style>\n<table border=\"1\" class=\"dataframe\">\n  <thead>\n    <tr style=\"text-align: right;\">\n      <th></th>\n      <th>ImageId</th>\n      <th>Label</th>\n    </tr>\n  </thead>\n  <tbody>\n    <tr>\n      <th>0</th>\n      <td>1</td>\n      <td>2</td>\n    </tr>\n    <tr>\n      <th>1</th>\n      <td>2</td>\n      <td>0</td>\n    </tr>\n    <tr>\n      <th>2</th>\n      <td>3</td>\n      <td>9</td>\n    </tr>\n    <tr>\n      <th>3</th>\n      <td>4</td>\n      <td>0</td>\n    </tr>\n    <tr>\n      <th>4</th>\n      <td>5</td>\n      <td>3</td>\n    </tr>\n  </tbody>\n</table>\n</div>"
          },
          "metadata": {}
        }
      ]
    },
    {
      "cell_type": "code",
      "source": [
        "dir_submit = \"/kaggle/working/submit1.csv\"\n",
        "Y_submit.to_csv(dir_submit, index = False)"
      ],
      "metadata": {
        "execution": {
          "iopub.status.busy": "2024-09-01T07:08:39.998829Z",
          "iopub.execute_input": "2024-09-01T07:08:39.999575Z",
          "iopub.status.idle": "2024-09-01T07:08:40.037092Z",
          "shell.execute_reply.started": "2024-09-01T07:08:39.999543Z",
          "shell.execute_reply": "2024-09-01T07:08:40.036201Z"
        },
        "trusted": true,
        "id": "YuL8DV0IYbnc"
      },
      "execution_count": null,
      "outputs": []
    },
    {
      "cell_type": "code",
      "source": [],
      "metadata": {
        "id": "b4iOodGnYbnd"
      },
      "execution_count": null,
      "outputs": []
    }
  ]
}
